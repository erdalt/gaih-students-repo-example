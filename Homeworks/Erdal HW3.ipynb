{
 "cells": [
  {
   "cell_type": "code",
   "execution_count": 1,
   "metadata": {},
   "outputs": [],
   "source": [
    "ogrenci_dict=dict()"
   ]
  },
  {
   "cell_type": "code",
   "execution_count": 2,
   "metadata": {},
   "outputs": [],
   "source": [
    "def ogrenci_puan_hesapla(ogrenci):\n",
    "    ara_sınav=int(input(\"Ara sınav notu: \"))\n",
    "    proje=int(input(\"Proje notu: \"))\n",
    "    final=int(input(\"Final notu: \"))\n",
    "    gecme_notu=0.3*ara_sınav+0.3*proje+0.4*final\n",
    "    ogrenci_dict[ogrenci]=gecme_notu\n",
    "    return ogrenci_dict"
   ]
  },
  {
   "cell_type": "code",
   "execution_count": 3,
   "metadata": {},
   "outputs": [
    {
     "name": "stdout",
     "output_type": "stream",
     "text": [
      "Ara sınav notu: 50\n",
      "Proje notu: 50\n",
      "Final notu: 70\n"
     ]
    }
   ],
   "source": [
    "ogrenci_dict=ogrenci_puan_hesapla(\"Ahmet Yabancı\")"
   ]
  },
  {
   "cell_type": "code",
   "execution_count": 4,
   "metadata": {},
   "outputs": [
    {
     "data": {
      "text/plain": [
       "<function dict.values>"
      ]
     },
     "execution_count": 4,
     "metadata": {},
     "output_type": "execute_result"
    }
   ],
   "source": [
    "ogrenci_dict.values"
   ]
  },
  {
   "cell_type": "code",
   "execution_count": 5,
   "metadata": {},
   "outputs": [
    {
     "name": "stdout",
     "output_type": "stream",
     "text": [
      "Ara sınav notu: 55\n",
      "Proje notu: 67\n",
      "Final notu: 80\n"
     ]
    }
   ],
   "source": [
    "ogrenci_puan_hesapla(\"Mehmet Aktürk\")"
   ]
  },
  {
   "cell_type": "code",
   "execution_count": 6,
   "metadata": {},
   "outputs": [
    {
     "name": "stdout",
     "output_type": "stream",
     "text": [
      "Ara sınav notu: 79\n",
      "Proje notu: 84\n",
      "Final notu: 86\n"
     ]
    }
   ],
   "source": [
    "ogrenci_puan_hesapla(\"Sıla Akkuş\")"
   ]
  },
  {
   "cell_type": "code",
   "execution_count": 7,
   "metadata": {},
   "outputs": [
    {
     "name": "stdout",
     "output_type": "stream",
     "text": [
      "Ara sınav notu: 60\n",
      "Proje notu: 90\n",
      "Final notu: 90\n"
     ]
    }
   ],
   "source": [
    "ogrenci_puan_hesapla(\"Musa Türkkal\")"
   ]
  },
  {
   "cell_type": "code",
   "execution_count": 8,
   "metadata": {},
   "outputs": [
    {
     "name": "stdout",
     "output_type": "stream",
     "text": [
      "Ara sınav notu: 70\n",
      "Proje notu: 90\n",
      "Final notu: 90\n"
     ]
    }
   ],
   "source": [
    "ogrenci_puan_hesapla(\"Feryal Uzun\")"
   ]
  },
  {
   "cell_type": "code",
   "execution_count": 9,
   "metadata": {},
   "outputs": [
    {
     "data": {
      "text/plain": [
       "dict_values([58.0, 68.6, 83.3, 81.0, 84.0])"
      ]
     },
     "execution_count": 9,
     "metadata": {},
     "output_type": "execute_result"
    }
   ],
   "source": [
    "ogrenci_dict.values()"
   ]
  },
  {
   "cell_type": "code",
   "execution_count": 17,
   "metadata": {},
   "outputs": [],
   "source": [
    "notlar=[]\n",
    "for i in ogrenci_dict.values():\n",
    "    notlar.append(i)\n",
    "\n",
    "notlar=sorted(notlar,reverse=True)"
   ]
  },
  {
   "cell_type": "code",
   "execution_count": 18,
   "metadata": {},
   "outputs": [
    {
     "data": {
      "text/plain": [
       "[84.0, 83.3, 81.0, 68.6, 58.0]"
      ]
     },
     "execution_count": 18,
     "metadata": {},
     "output_type": "execute_result"
    }
   ],
   "source": [
    "notlar"
   ]
  }
 ],
 "metadata": {
  "kernelspec": {
   "display_name": "Python 3",
   "language": "python",
   "name": "python3"
  },
  "language_info": {
   "codemirror_mode": {
    "name": "ipython",
    "version": 3
   },
   "file_extension": ".py",
   "mimetype": "text/x-python",
   "name": "python",
   "nbconvert_exporter": "python",
   "pygments_lexer": "ipython3",
   "version": "3.7.6"
  }
 },
 "nbformat": 4,
 "nbformat_minor": 4
}
